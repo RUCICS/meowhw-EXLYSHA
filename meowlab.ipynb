{
 "cells": [
  {
   "cell_type": "markdown",
   "id": "c6175159",
   "metadata": {},
   "source": [
    "# MeowLab\n",
    "\n",
    "> cat可能是你最常用的命令行工具之一，但是可能很少有人会关注cat的性能问题。\n",
    "> \n",
    "> 但实际上，cat可能比你想的更加高效。在这个lab中，我们会一起来探索cat如此高效的秘密。"
   ]
  },
  {
   "cell_type": "markdown",
   "id": "ef876965",
   "metadata": {},
   "source": [
    "## 什么是cat\n",
    "\n",
    "对于大部分同学来说，这个问题有些太trivial了。但是以防万一，还是在这里介绍一下，cat是一个GNU coreutils中的一个程序，它的作用是连接(con**cat**enate)一系列文件，并将其输出到标准输出流(stdout)中。\n",
    "\n",
    "> 如果你愿意去找，你会发现这个lab中所有的代码都可以在GNU coreutils中找到，或者你用某个大模型，它可能也能写得不错。\n",
    "> 但是，除了写代码以外，这个lab中也会包含一些分析和讨论。因此即使你选择直接去抄GNU coreutils中的代码，也不要直接不加思考的复制粘贴。"
   ]
  },
  {
   "cell_type": "markdown",
   "id": "be33179e",
   "metadata": {},
   "source": [
    "## 环境要求\n",
    "\n",
    "* 操作系统：Linux（任何包含GNU coreutils的发行版）\n",
    "* 编译器：本lab允许使用C/C++或者Rust，选择你喜欢的任何编译器即可。\n",
    "* Python3.x：本lab一些地方需要你画图，推荐你使用matplotlib。另外，我们使用一个简单的脚本来生成测试文件。"
   ]
  },
  {
   "cell_type": "markdown",
   "id": "c6d3e510",
   "metadata": {},
   "source": [
    "## 在开始之前\n",
    "\n",
    "这个项目的所有代码需要你自己动手来写，我们只提供了一个用于生成测试文件的脚本。\n",
    "\n",
    "为了展示比较明显的测试效果，我们会生成一个2GB的测试文件，请确保你的磁盘拥有足够的空间。你可以运行下面这个单元格来查看你的电脑是否有足够的空间。这里我们使用了`df`命令，这个命令的作用是查看某个文件系统所在的磁盘的使用量。"
   ]
  },
  {
   "cell_type": "code",
   "execution_count": 4,
   "id": "14021422",
   "metadata": {},
   "outputs": [
    {
     "name": "stdout",
     "output_type": "stream",
     "text": [
      "Filesystem      Size  Used Avail Use% Mounted on\n",
      "/dev/sdd       1007G  126G  831G  14% /\n",
      "Disk space is sufficient: 831G\n"
     ]
    }
   ],
   "source": [
    "%%bash\n",
    "df -h /\n",
    "\n",
    "avail=$(df -h / | awk 'NR==2 {print $4}' | grep -o '[0-9.]*')\n",
    "unit=$(df -h / | awk 'NR==2 {print $4}' | grep -o '[a-zA-Z]*')\n",
    "if [[ \"$unit\" == \"M\" || \"$unit\" == \"K\" ]]; then\n",
    "    echo \"Disk space is low: $avail$unit\"\n",
    "elif [[ \"$unit\" == \"T\" ]]; then\n",
    "    echo \"Disk space is sufficient: $avail$unit\"\n",
    "elif [[ \"$unit\" == \"G\" ]]; then\n",
    "    if (( $(echo \"$avail < 10\" | bc -l) )); then\n",
    "        echo \"Disk space is low: $avail$unit\"\n",
    "    else\n",
    "        echo \"Disk space is sufficient: $avail$unit\"\n",
    "    fi\n",
    "else\n",
    "    echo \"Unknown unit: $unit\"\n",
    "fi\n"
   ]
  },
  {
   "cell_type": "markdown",
   "id": "64cc6804",
   "metadata": {},
   "source": [
    "你可以使用我们提供的python脚本来生成测试文件，运行下面的单元格。测试文件的生成可能会花费一定的时间。"
   ]
  },
  {
   "cell_type": "code",
   "execution_count": 5,
   "id": "8ead0359",
   "metadata": {},
   "outputs": [],
   "source": [
    "import random\n",
    "\n",
    "MB = 1024 * 1024\n",
    "\n",
    "# A static seed for reproducibility\n",
    "random.seed(42)\n",
    "\n",
    "with open(\"test.txt\", \"wb\") as f:\n",
    "    for _ in range(2048):\n",
    "        f.write(random.randbytes(1 * MB)) # 1MB of random data"
   ]
  },
  {
   "cell_type": "markdown",
   "id": "a0017028",
   "metadata": {},
   "source": [
    "当前文件夹下面会出现一个大小为2GB的文件`test.txt`。你可以运行下面的单元格来验证。"
   ]
  },
  {
   "cell_type": "code",
   "execution_count": 6,
   "id": "a4bd4bd0",
   "metadata": {},
   "outputs": [
    {
     "name": "stdout",
     "output_type": "stream",
     "text": [
      "-rw-r--r-- 1 exlysha exlysha 2.0G Jun 17 16:24 test.txt\n"
     ]
    }
   ],
   "source": [
    "%%bash\n",
    "ls -lh test.txt"
   ]
  },
  {
   "cell_type": "markdown",
   "id": "55fbac6a",
   "metadata": {},
   "source": [
    "最后，我们的lab会需要使用`hyperfine`来测量程序的运行时间。我们推荐你使用`cargo`进行安装。你可以从[Rust官网](https://www.rust-lang.org/zh-CN/learn/get-started)找到安装脚本。如果你的电脑已经安装好了`cargo`，你可以运行下面的单元格来安装`hyperfine`。"
   ]
  },
  {
   "cell_type": "code",
   "execution_count": 7,
   "id": "77f0165a",
   "metadata": {},
   "outputs": [
    {
     "name": "stderr",
     "output_type": "stream",
     "text": [
      "\u001b[1m\u001b[32m    Updating\u001b[0m crates.io index\n",
      "\u001b[1m\u001b[32m     Ignored\u001b[0m package `hyperfine v1.19.0` is already installed, use --force to override\n"
     ]
    }
   ],
   "source": [
    "%%bash\n",
    "cargo install hyperfine"
   ]
  },
  {
   "cell_type": "markdown",
   "id": "45cefa6f",
   "metadata": {},
   "source": [
    "有了以上的准备工作，我们终于可以开始我们的探索之旅了。"
   ]
  },
  {
   "cell_type": "markdown",
   "id": "9c1afa63",
   "metadata": {},
   "source": [
    "## 任务0: 测量cat的效率\n",
    "\n",
    "你要做的第一个任务十分简单。学习一下如何使用`hyperfine`，并且使用它来测试GNU coreutils中的cat输出我们生成的测试文件`test.txt`的时间。运行下面的单元格来运行测试。"
   ]
  },
  {
   "cell_type": "code",
   "execution_count": 8,
   "id": "4af9a82b",
   "metadata": {},
   "outputs": [
    {
     "name": "stdout",
     "output_type": "stream",
     "text": [
      "Benchmark 1: cat test.txt\n",
      "  Time (mean ± σ):     295.5 ms ±   7.5 ms    [User: 10.3 ms, System: 276.8 ms]\n",
      "  Range (min … max):   287.4 ms … 313.7 ms    10 runs\n",
      " \n"
     ]
    }
   ],
   "source": [
    "%%bash\n",
    "hyperfine --warmup 3 'cat test.txt'"
   ]
  },
  {
   "cell_type": "markdown",
   "id": "cd94fe5a",
   "metadata": {},
   "source": [
    "## 任务1: 写一个最朴素的cat\n",
    "\n",
    "我们现在使用`hyperfine`测量了GNU coreutils中的`cat`的运行效率，但是对于这个运行时间，我们可能并没有什么概念。现在我们将会写一个最朴素的`cat`程序来作为baseline。这个程序需要满足一下要求：\n",
    "1. 把你的源代码命名为`mycat1.c`或者`mycat1.rs`，并且可执行的二进制文件命名为`mycat1`。\n",
    "2. 你的程序接受且只接受一个命令行参数，这个参数是你要读取的文件。\n",
    "3. 你的程序直接使用`read`和`write`系统调用，每次读取并输出一个字符，不使用任何缓冲区。\n",
    "4. 使用`hpyerfine`测量`mycat1`和`cat`运行时间（`mycat1`的运行时间可能会非常长）\n",
    "5. 虽然这是一个很简单的程序，但是请仍然保持系统编程的规范。请在你的代码中进行进行所有必要的错误处理。\n",
    "\n",
    "这个任务不需要在文档中包含任何内容。"
   ]
  },
  {
   "cell_type": "code",
   "execution_count": 10,
   "id": "124223b9",
   "metadata": {},
   "outputs": [
    {
     "name": "stdout",
     "output_type": "stream",
     "text": [
      "Benchmark 1: ./target/mycat1 test.txt\n",
      "  Time (abs ≡):        4872.916 s               [User: 710.413 s, System: 3808.844 s]\n",
      " \n"
     ]
    }
   ],
   "source": [
    "%%bash\n",
    "hyperfine --warmup 3 --runs 1 './target/mycat1 test.txt'"
   ]
  },
  {
   "cell_type": "markdown",
   "id": "7105038c",
   "metadata": {},
   "source": [
    "## 任务2: 带有缓冲区的cat\n",
    "\n",
    "如果你正确完成了上面的任务，你会发现，`mycat1`的性能和系统中的`cat`的性能相差甚远。但是经过了ics课程的学习，你肯定已经想到了至少一个解决方案——使用缓冲区。缓冲区可以有效减少反复进行系统调用的性能消耗。但是，我们要面临的第二个问题是：缓冲区的大小应该如何设置呢？我们接下来将一步一步地探索这个问题。\n",
    "\n",
    "我们之前肯定也已经讲过不少涉及IO缓冲区的程序了，它们的缓冲区大小都被设置为多少呢？我相信1024, 4096, 8192一定是比较常见的几个数字。经过ics的学习，我相信你们肯定能说出原因了。那么，这个任务，我们将根据这个原理优化我们的`mycat1`。你至少需要完成下面要求：\n",
    "1. 复制你上一个任务的源代码在上面做修改，并把源代码命名为`mycat2.c`/`mycat2.rs`，可执行二进制文件命名为`mycat2`。\n",
    "2. 写一个`io_blocksize`函数用于确定你的缓冲区的大小，在这个任务中，你可以将缓冲区设置成你当前系统中一个内存页的大小。（注意：你不能假设所有系统中内存页的大小都是4K，请你使用一个系统调用或者标准库中的函数来获取内存页的大小，而不要使用一个固定值。不过允许你使用一个固定值，如果获取内存页发生错误，但是这不应该是一个常见的情况）。\n",
    "3. 使用标准库提供的函数动态分配用于缓冲区的内存。\n",
    "4. 使用`hpyerfine`测量`mycat2`的运行时间\n",
    "5. 请保持系统编程的基本规范。\n",
    "\n",
    "这个任务不需要在文档中包含任何内容。"
   ]
  },
  {
   "cell_type": "code",
   "execution_count": 11,
   "id": "ac23d60f",
   "metadata": {},
   "outputs": [
    {
     "name": "stdout",
     "output_type": "stream",
     "text": [
      "Benchmark 1: ./target/mycat2 test.txt\n",
      "  Time (mean ± σ):      1.456 s ±  0.060 s    [User: 0.186 s, System: 1.156 s]\n",
      "  Range (min … max):    1.375 s …  1.553 s    10 runs\n",
      " \n"
     ]
    }
   ],
   "source": [
    "%%bash\n",
    "hyperfine --warmup 3 './target/mycat2 test.txt'"
   ]
  },
  {
   "cell_type": "markdown",
   "id": "c5630499",
   "metadata": {},
   "source": [
    "## 任务3: 缓冲区对齐的cat\n",
    "\n",
    "如果你正确完成了上面这个任务，你会发现，添加了缓冲区的`mycat2`性能提升十分显著。但是我们还可以进一步优化。实际上只是添加了缓冲区并且设置缓冲区的大小为内存页的整数倍并不是没有什么太多的意义，这样的设置只是为了这个一个任务做铺垫的。在这个任务中，我们将尝试将我们的缓冲区对齐到系统的内存页。至于为什么要这么做，请大家在自己的文档中分析一下。你至少需要完成以下要求：\n",
    "1. 复制你上一个任务的源代码在上面做修改，并把源代码命名为`mycat3.c`/`mycat3.rs`，可执行二进制文件命名为`mycat3`。\n",
    "2. 写两个函数`char* align_alloc(size_t size)`和`void align_free(void* ptr)`，它们的作用分别是分配一段内存，长度不小于`size`并且返回一个对齐到内存页起始的指针`ptr`，以及给出一个先前从`align_alloc`返回的指针并释放之前分配的内存。\n",
    "3. 利用这两个函数修改你的代码，缓冲区的大小仍然设置成一个内存页的大小。\n",
    "4. 使用`hpyerfine`测量`mycat3`的运行时间\n",
    "5. 请保持系统编程的基本规范。\n",
    "\n",
    "这个任务，你需要在文档中回答以下问题：\n",
    "1. 为什么将缓冲区对齐到系统的内存可能提高性能？你的实验结果支持这个猜想吗？为什么？\n",
    "2. 为什么我们直接使用`malloc`函数分配的内存不能对齐到内存页，即使我们分配的内存大小已经是内存页大小的整数倍了。\n",
    "3. 你是怎么在不知道原始的malloc返回的指针的情况下正确释放内存的？"
   ]
  },
  {
   "cell_type": "code",
   "execution_count": 12,
   "id": "cc9a08fd",
   "metadata": {},
   "outputs": [
    {
     "name": "stdout",
     "output_type": "stream",
     "text": [
      "Benchmark 1: ./target/mycat3 test.txt\n",
      "  Time (mean ± σ):      1.468 s ±  0.053 s    [User: 0.196 s, System: 1.165 s]\n",
      "  Range (min … max):    1.406 s …  1.564 s    10 runs\n",
      " \n"
     ]
    }
   ],
   "source": [
    "%%bash\n",
    "hyperfine --warmup 3 './target/mycat3 test.txt'"
   ]
  },
  {
   "cell_type": "markdown",
   "id": "45070667",
   "metadata": {},
   "source": [
    "## 任务4: 设置缓冲区大小为文件系统块大小的整数倍的cat\n",
    "\n",
    "由于`cat`是涉及文件操作的，所以我们自然不能离开磁盘操作。我们在课内已经学到过，磁盘操作的基本单位是块。并且因为我们操作磁盘是经过了操作系统的一层抽象的，操作系统的文件系统也定义了一个操作文件的基本单位块，这个块的大小和磁盘的块的大小相关，但不总是相同。因此我们操作文件的时候实际接触到的块大小是文件系统的块大小。如果我们每次读取和写入文件的时候都按照文件系统的块大小来进行，也能提升性能。在这个任务中，你至少需要完成以下要求：\n",
    "1. 复制你上一个任务的源代码在上面做修改，并把源代码命名为`mycat4.c`/`mycat4.rs`，可执行二进制文件命名为`mycat4`。\n",
    "2. 修改你的函数`io_blocksize`，让你的缓冲区大小既考虑到内存页大小也考虑到文件系统的块大小。\n",
    "3. 使用`hyperfine`测量`mycat4`的运行时间。\n",
    "4. 保持系统编程的基本规范。\n",
    "\n",
    "> 在完成这项任务的时候你需要注意以下几点：\n",
    "> 1. 文件系统中的每个文件，块大小不总是相同的。\n",
    "> 2. 有的文件系统可能会给出虚假的块大小，这种虚假的文件块大小可能根本不是2的整数次幂。\n",
    "\n",
    "这个任务，你需要在文档中回答以下问题：\n",
    "1. 为什么在设置缓冲区大小的时候需要考虑到文件系统块的大小的问题？\n",
    "2. 对于上面提到的两个注意事项你是怎么解决的？"
   ]
  },
  {
   "cell_type": "code",
   "execution_count": 13,
   "id": "b1c29621",
   "metadata": {},
   "outputs": [
    {
     "name": "stdout",
     "output_type": "stream",
     "text": [
      "Benchmark 1: ./target/mycat4 test.txt\n",
      "  Time (mean ± σ):      1.439 s ±  0.036 s    [User: 0.175 s, System: 1.160 s]\n",
      "  Range (min … max):    1.351 s …  1.477 s    10 runs\n",
      " \n"
     ]
    }
   ],
   "source": [
    "%%bash\n",
    "hyperfine --warmup 3 './target/mycat4 test.txt'"
   ]
  },
  {
   "cell_type": "markdown",
   "id": "442bbd60",
   "metadata": {},
   "source": [
    "## 任务5: 考虑系统调用开销情况下的cat\n",
    "\n",
    "如果你正确完成了上面的任务，那么现在你的`cat`已经可以综合考虑内存页大小，内存页对齐和文件系统块大小的因素来设置缓冲区大小了。但是我们会发现，我们自己的`cat`性能仍然不如我们系统中的`cat`。并且如果你尝试过再进一步增大缓冲区的大小，你的`cat`性能还能更高。这是因为我们目前设置的缓冲区大小还不足以掩盖系统调用带来的开销。那么，我们的缓冲区究竟应该设置到什么大小才够呢？其实这个问题，我们仅仅使用理论分析是无法给出答案的，因为答案受到机器的硬件条件，操作系统的涉及等多重不确定因素的影响。但是，我们可以使用实验来解答这个问题。最后，我们还需要做出假设，不考虑上一个任务的注意事项1，也就是我们假设我们文件系统的大部分文件的块大小都一致（你可以使用我们的测试文件的块大小）。因此，设我们在之前的任务中设置的缓冲区大小是buf_size，我们需要通过实验找到一个倍数A，满足以下条件：\n",
    "1. 当缓冲区大小小于A * buf_size的时候，文件的读写速度显著减小\n",
    "2. 当缓冲区大小大于A * buf_size的时候，文件的读写速度并不显著提升\n",
    "最终，我们就可以直接设置我们的`cat`中的缓冲区大小设置成buf_size的固定倍率。在这个任务中，你只少需要完成以下要求：\n",
    "1. 编写一个实验脚本，尽量排除其他因素的影响，测量只在系统调用开销的影响下，你的系统最合适的缓冲区大小。并且给出这个大小下你的系统的读写速率。\n",
    "2. 复制你上一个任务的源代码在上面做修改，并把源代码命名为`mycat5.c`/`mycat5.rs`，可执行二进制文件命名为`mycat5`。\n",
    "3. 利用上面的实验结果，修改你的函数`io_blocksize`。\n",
    "4. 使用`hyperfine`测量`mycat5`的运行时间。\n",
    "5. 保持系统编程的基本规范。\n",
    "\n",
    "> 提示：\n",
    "> 1. `dd`命令可以用于复制一个文件(也就是读取并写入)，你可以使用命令行参数设置它的缓冲区大小，并且程序终止的时候可以报告平均文件读写速度。\n",
    "> 2. Linux系统中存在`/dev`文件系统，这个目录下有很多特殊文件，其中有一些对你来说可能有用。`/dev/null`，你向这个文件写入的内容并不真正写入磁盘，并且不会对你的系统造成任何影响。`/dev/zero`，如果你尝试读取这个文件你会得到源源不断的`\\0x0`，这个文件也并不真正的从磁盘中读取。\n",
    "\n",
    "这个任务，你需要在文档中包括以下内容：\n",
    "1. 解释一下你的实验脚本是怎么设计的。你应该尝试了多种倍率，请将它们的读写速率画成图表包含在文档中。"
   ]
  },
  {
   "cell_type": "code",
   "execution_count": 12,
   "id": "9a720e79",
   "metadata": {},
   "outputs": [
    {
     "name": "stdout",
     "output_type": "stream",
     "text": [
      "倍数,缓冲区大小,读写速度(MB/s)\n",
      "1,4096,3.1\n",
      "2,8192,5.9\n",
      "3,12288,7.9\n",
      "4,16384,9.6\n",
      "5,20480,11.2\n",
      "6,24576,13.5\n",
      "7,28672,14.5\n",
      "8,32768,15.0\n",
      "9,36864,15.7\n",
      "10,40960,17.1\n",
      "11,45056,17.1\n",
      "12,49152,18.1\n",
      "13,53248,19.1\n",
      "14,57344,20.3\n",
      "15,61440,20.6\n",
      "16,65536,21.3\n",
      "17,69632,22.8\n",
      "18,73728,22.1\n",
      "19,77824,23.0\n",
      "20,81920,23.7\n",
      "21,86016,24.2\n",
      "22,90112,23.0\n",
      "23,94208,23.4\n",
      "24,98304,24.4\n",
      "25,102400,24.1\n",
      "26,106496,25.5\n",
      "27,110592,26.2\n",
      "28,114688,26.5\n",
      "29,118784,26.9\n",
      "30,122880,27.9\n",
      "31,126976,27.6\n",
      "32,131072,28.0\n",
      "33,135168,28.6\n",
      "34,139264,28.3\n",
      "35,143360,28.9\n",
      "36,147456,25.9\n",
      "37,151552,27.7\n",
      "38,155648,27.1\n",
      "39,159744,28.8\n",
      "40,163840,29.6\n"
     ]
    }
   ],
   "source": [
    "%%bash\n",
    "\n",
    "BASE_SIZE=4096  # 基础缓冲区大小\n",
    "TEST_SIZE=1048576000  # 测试数据大小 (1GB)\n",
    "\n",
    "echo \"倍数,缓冲区大小,读写速度(MB/s)\"\n",
    "\n",
    "for multiplier in {1..40}; do\n",
    "    buffer_size=$((BASE_SIZE * multiplier))\n",
    "    count=$((TEST_SIZE / buffer_size))\n",
    "    \n",
    "    # 使用dd测试性能，从/dev/zero读取，写入到/dev/null\n",
    "    result=$(dd if=/dev/zero of=/dev/null bs=$buffer_size count=$count 2>&1 | \\\n",
    "             grep \"copied\" | awk '{print $(NF-1)}')\n",
    "    \n",
    "    echo \"$multiplier,$buffer_size,$result\"\n",
    "done"
   ]
  },
  {
   "cell_type": "code",
   "execution_count": 14,
   "id": "fefb5fdb",
   "metadata": {},
   "outputs": [
    {
     "name": "stdout",
     "output_type": "stream",
     "text": [
      "Benchmark 1: ./target/mycat5 test.txt\n",
      "  Time (mean ± σ):     285.6 ms ±   6.3 ms    [User: 13.6 ms, System: 265.8 ms]\n",
      "  Range (min … max):   276.4 ms … 300.3 ms    10 runs\n",
      " \n"
     ]
    }
   ],
   "source": [
    "%%bash\n",
    "hyperfine --warmup 3 './target/mycat5 test.txt'"
   ]
  },
  {
   "cell_type": "markdown",
   "id": "54bef4af",
   "metadata": {},
   "source": [
    "## 任务6: 使用了系统调用`fdadvice`的cat\n",
    "\n",
    "虽然几乎我们的这个lab都在讨论设置缓冲区大小的问题，但是实际上我们的系统中的`cat`还在其他很多方面做了不少优化。这些优化在多数时候和缓冲区相比都不起决定性作用，但是我们也可以从中学习到不少有趣的技巧。这里我们就只尝试其中一个，使用系统调用`fadvise`。这个系统调用可以提示文件系统我们将会以什么样的模式来读写文件，这样操作系统可以设置合适的readahead窗口为文件的读写做准备。在这个任务中，你需要完成以下要求：\n",
    "1. 复制你上一个任务的源代码在上面做修改，并把源代码命名为`mycat6.c`/`mycat6.rs`，可执行二进制文件命名为`mycat6`。\n",
    "2. 在你的代码中使用`fadvise`进行优化。\n",
    "3. 使用`hyperfine`测量`mycat6`的运行时间。\n",
    "4. 保持系统编程的基本规范。\n",
    "\n",
    "这个任务，你需要在文档中回答以下问题：\n",
    "1. 你是如何设置`fadvise`的参数的？\n",
    "2. 对于顺序读写的情况，文件系统可以如何调整readahead？对于随机读写的情况呢？"
   ]
  },
  {
   "cell_type": "code",
   "execution_count": 17,
   "id": "3aad1e29",
   "metadata": {},
   "outputs": [
    {
     "name": "stdout",
     "output_type": "stream",
     "text": [
      "Benchmark 1: ./target/mycat6 test.txt\n",
      "  Time (mean ± σ):     279.4 ms ±   6.5 ms    [User: 11.4 ms, System: 262.1 ms]\n",
      "  Range (min … max):   274.0 ms … 290.7 ms    10 runs\n",
      " \n"
     ]
    }
   ],
   "source": [
    "%%bash\n",
    "hyperfine --warmup 3 './target/mycat6 test.txt'"
   ]
  },
  {
   "cell_type": "markdown",
   "id": "2c605486",
   "metadata": {},
   "source": [
    "## 任务7: 总结\n",
    "\n",
    "经过了上面的所有任务，我们已经成功探索我们系统中最常用的工具`cat`所使用的各种优化。我相信你对涉及系统IO的编程也有了更深刻的理解。现在请你整理汇总上面每个任务你所写的`mycatx`以及系统的`cat`的测量数据，使用一个柱状图来展示。并且请你分析一下你得到的结果：它们符合你的预期吗？为什么？这个结果给你带来了什么启示？\n",
    "\n",
    "这个任务，你需要在文档中包含以下内容：\n",
    "1. 你的全部实验结果的柱状图。\n",
    "2. 你对上述实验结果的分析。"
   ]
  },
  {
   "cell_type": "code",
   "execution_count": 1,
   "id": "23f1b4b3",
   "metadata": {},
   "outputs": [
    {
     "name": "stdout",
     "output_type": "stream",
     "text": [
      "Defaulting to user installation because normal site-packages is not writeable\n",
      "Looking in indexes: https://pypi.tuna.tsinghua.edu.cn/simple\n",
      "Collecting pandas\n",
      "  Downloading https://pypi.tuna.tsinghua.edu.cn/packages/66/f8/5508bc45e994e698dbc93607ee6b9b6eb67df978dc10ee2b09df80103d9e/pandas-2.3.0-cp310-cp310-manylinux_2_17_x86_64.manylinux2014_x86_64.whl (12.3 MB)\n",
      "\u001b[2K     \u001b[90m━━━━━━━━━━━━━━━━━━━━━━━━━━━━━━━━━━━━━━━━\u001b[0m \u001b[32m12.3/12.3 MB\u001b[0m \u001b[31m7.6 MB/s\u001b[0m eta \u001b[36m0:00:00\u001b[0m00:01\u001b[0mm00:01\u001b[0m\n",
      "\u001b[?25hCollecting matplotlib\n",
      "  Downloading https://pypi.tuna.tsinghua.edu.cn/packages/85/c7/1866e972fed6d71ef136efbc980d4d1854ab7ef1ea8152bbd995ca231c81/matplotlib-3.10.3-cp310-cp310-manylinux_2_17_x86_64.manylinux2014_x86_64.whl (8.6 MB)\n",
      "\u001b[2K     \u001b[90m━━━━━━━━━━━━━━━━━━━━━━━━━━━━━━━━━━━━━━━━\u001b[0m \u001b[32m8.6/8.6 MB\u001b[0m \u001b[31m2.1 MB/s\u001b[0m eta \u001b[36m0:00:00\u001b[0m00:01\u001b[0m00:01\u001b[0m\n",
      "\u001b[?25hRequirement already satisfied: pytz>=2020.1 in /usr/lib/python3/dist-packages (from pandas) (2022.1)\n",
      "Collecting tzdata>=2022.7\n",
      "  Downloading https://pypi.tuna.tsinghua.edu.cn/packages/5c/23/c7abc0ca0a1526a0774eca151daeb8de62ec457e77262b66b359c3c7679e/tzdata-2025.2-py2.py3-none-any.whl (347 kB)\n",
      "\u001b[2K     \u001b[90m━━━━━━━━━━━━━━━━━━━━━━━━━━━━━━━━━━━━━━━\u001b[0m \u001b[32m347.8/347.8 KB\u001b[0m \u001b[31m1.7 MB/s\u001b[0m eta \u001b[36m0:00:00\u001b[0ma \u001b[36m0:00:01\u001b[0m\n",
      "\u001b[?25hCollecting numpy>=1.22.4\n",
      "  Downloading https://pypi.tuna.tsinghua.edu.cn/packages/b4/63/3de6a34ad7ad6646ac7d2f55ebc6ad439dbbf9c4370017c50cf403fb19b5/numpy-2.2.6-cp310-cp310-manylinux_2_17_x86_64.manylinux2014_x86_64.whl (16.8 MB)\n",
      "\u001b[2K     \u001b[90m━━━━━━━━━━━━━━━━━━━━━━━━━━━━━━━━━━━━━━━━\u001b[0m \u001b[32m16.8/16.8 MB\u001b[0m \u001b[31m2.4 MB/s\u001b[0m eta \u001b[36m0:00:00\u001b[0m00:01\u001b[0m00:01\u001b[0m\n",
      "\u001b[?25hRequirement already satisfied: python-dateutil>=2.8.2 in /home/exlysha/.local/lib/python3.10/site-packages (from pandas) (2.9.0.post0)\n",
      "Collecting contourpy>=1.0.1\n",
      "  Downloading https://pypi.tuna.tsinghua.edu.cn/packages/32/5c/1ee32d1c7956923202f00cf8d2a14a62ed7517bdc0ee1e55301227fc273c/contourpy-1.3.2-cp310-cp310-manylinux_2_17_x86_64.manylinux2014_x86_64.whl (325 kB)\n",
      "\u001b[2K     \u001b[90m━━━━━━━━━━━━━━━━━━━━━━━━━━━━━━━━━━━━━━━\u001b[0m \u001b[32m325.0/325.0 KB\u001b[0m \u001b[31m2.8 MB/s\u001b[0m eta \u001b[36m0:00:00\u001b[0m00:01\u001b[0m00:01\u001b[0m\n",
      "\u001b[?25hRequirement already satisfied: pyparsing>=2.3.1 in /usr/lib/python3/dist-packages (from matplotlib) (2.4.7)\n",
      "Collecting pillow>=8\n",
      "  Downloading https://pypi.tuna.tsinghua.edu.cn/packages/f3/5e/7ca9c815ade5fdca18853db86d812f2f188212792780208bdb37a0a6aef4/pillow-11.2.1-cp310-cp310-manylinux_2_28_x86_64.whl (4.6 MB)\n",
      "\u001b[2K     \u001b[90m━━━━━━━━━━━━━━━━━━━━━━━━━━━━━━━━━━━━━━━━\u001b[0m \u001b[32m4.6/4.6 MB\u001b[0m \u001b[31m2.6 MB/s\u001b[0m eta \u001b[36m0:00:00\u001b[0m00:01\u001b[0m00:01\u001b[0m\n",
      "\u001b[?25hCollecting fonttools>=4.22.0\n",
      "  Downloading https://pypi.tuna.tsinghua.edu.cn/packages/13/fa/403703548c093c30b52ab37e109b369558afa221130e67f06bef7513f28a/fonttools-4.58.4-cp310-cp310-manylinux2014_x86_64.manylinux_2_17_x86_64.whl (4.8 MB)\n",
      "\u001b[2K     \u001b[90m━━━━━━━━━━━━━━━━━━━━━━━━━━━━━━━━━━━━━━━━\u001b[0m \u001b[32m4.8/4.8 MB\u001b[0m \u001b[31m1.5 MB/s\u001b[0m eta \u001b[36m0:00:00\u001b[0m00:01\u001b[0m00:01\u001b[0m\n",
      "\u001b[?25hRequirement already satisfied: packaging>=20.0 in /home/exlysha/.local/lib/python3.10/site-packages (from matplotlib) (24.2)\n",
      "Collecting kiwisolver>=1.3.1\n",
      "  Downloading https://pypi.tuna.tsinghua.edu.cn/packages/de/c6/7b9bb8044e150d4d1558423a1568e4f227193662a02231064e3824f37e0a/kiwisolver-1.4.8-cp310-cp310-manylinux_2_12_x86_64.manylinux2010_x86_64.whl (1.6 MB)\n",
      "\u001b[2K     \u001b[90m━━━━━━━━━━━━━━━━━━━━━━━━━━━━━━━━━━━━━━━━\u001b[0m \u001b[32m1.6/1.6 MB\u001b[0m \u001b[31m1.4 MB/s\u001b[0m eta \u001b[36m0:00:00\u001b[0m00:01\u001b[0m00:01\u001b[0m\n",
      "\u001b[?25hCollecting cycler>=0.10\n",
      "  Downloading https://pypi.tuna.tsinghua.edu.cn/packages/e7/05/c19819d5e3d95294a6f5947fb9b9629efb316b96de511b418c53d245aae6/cycler-0.12.1-py3-none-any.whl (8.3 kB)\n",
      "Requirement already satisfied: six>=1.5 in /usr/lib/python3/dist-packages (from python-dateutil>=2.8.2->pandas) (1.16.0)\n",
      "Installing collected packages: tzdata, pillow, numpy, kiwisolver, fonttools, cycler, pandas, contourpy, matplotlib\n",
      "\u001b[31mERROR: pip's dependency resolver does not currently take into account all the packages that are installed. This behaviour is the source of the following dependency conflicts.\n",
      "numba 0.60.0 requires numpy<2.1,>=1.22, but you have numpy 2.2.6 which is incompatible.\u001b[0m\u001b[31m\n",
      "\u001b[0mSuccessfully installed contourpy-1.3.2 cycler-0.12.1 fonttools-4.58.4 kiwisolver-1.4.8 matplotlib-3.10.3 numpy-2.2.6 pandas-2.3.0 pillow-11.2.1 tzdata-2025.2\n",
      "Note: you may need to restart the kernel to use updated packages.\n"
     ]
    }
   ],
   "source": [
    "%pip install pandas matplotlib"
   ]
  },
  {
   "cell_type": "code",
   "execution_count": 19,
   "id": "4e293a45",
   "metadata": {},
   "outputs": [
    {
     "data": {
      "image/png": "[encoded data removed]",
      "text/plain": [
       "<Figure size 640x480 with 1 Axes>"
      ]
     },
     "metadata": {},
     "output_type": "display_data"
    }
   ],
   "source": [
    "# 这里填入你用于画图的python代码\n",
    "times = [1.456, 1.468, 1.439, 0.285, 0.279]\n",
    "import matplotlib.pyplot as plt\n",
    "plt.bar(range(len(times)), times, tick_label=['mycat2', 'mycat3', 'mycat4', 'mycat5', 'mycat6'])\n",
    "plt.xlabel('Implementation')\n",
    "plt.ylabel('Time (seconds)')\n",
    "plt.show()"
   ]
  },
  {
   "cell_type": "code",
   "execution_count": 13,
   "id": "d452651f",
   "metadata": {},
   "outputs": [
    {
     "data": {
      "image/png": "[encoded data removed]",
      "text/plain": [
       "<Figure size 640x480 with 1 Axes>"
      ]
     },
     "metadata": {},
     "output_type": "display_data"
    }
   ],
   "source": [
    "seconds = {1: 3.1, 2: 5.9, 3: 7.9, 4: 9.6, 5: 11.2,\n",
    "           6: 13.5, 7: 14.5, 8: 15.0, 9: 15.7, 10: 17.1,\n",
    "           11: 17.1, 12: 18.1, 13: 19.1, 14: 20.3, 15: 20.6,\n",
    "           16: 21.3, 17: 22.8, 18: 22.1, 19: 23.0, 20: 23.7,\n",
    "           21: 24.2, 22: 23.0, 23: 23.4, 24: 24.4, 25: 24.1,\n",
    "           26: 25.5, 27: 26.2, 28: 26.5, 29: 26.9, 30: 27.9,\n",
    "           31: 27.6, 32: 28.0, 33: 28.6, 34: 28.3, 35: 28.9,\n",
    "           36: 25.9, 37: 27.7, 38: 27.1, 39: 28.8, 40: 29.6}\n",
    "plt.plot(list(seconds.keys()), list(seconds.values()), marker='o')\n",
    "plt.xlabel('Buffer Size Multiplier')\n",
    "plt.ylabel('Time (seconds)')\n",
    "plt.show()"
   ]
  }
 ],
 "metadata": {
  "kernelspec": {
   "display_name": "Python 3",
   "language": "python",
   "name": "python3"
  },
  "language_info": {
   "codemirror_mode": {
    "name": "ipython",
    "version": 3
   },
   "file_extension": ".py",
   "mimetype": "text/x-python",
   "name": "python",
   "nbconvert_exporter": "python",
   "pygments_lexer": "ipython3",
   "version": "3.10.12"
  }
 },
 "nbformat": 4,
 "nbformat_minor": 5
}
